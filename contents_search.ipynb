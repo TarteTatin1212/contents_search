{
  "nbformat": 4,
  "nbformat_minor": 0,
  "metadata": {
    "colab": {
      "provenance": [],
      "authorship_tag": "ABX9TyPkGvW5u+u+NmgZCZGKh7oH",
      "include_colab_link": true
    },
    "kernelspec": {
      "name": "python3",
      "display_name": "Python 3"
    },
    "language_info": {
      "name": "python"
    }
  },
  "cells": [
    {
      "cell_type": "markdown",
      "metadata": {
        "id": "view-in-github",
        "colab_type": "text"
      },
      "source": [
        "<a href=\"https://colab.research.google.com/github/TarteTatin1212/contents_search/blob/main/contents_search.ipynb\" target=\"_parent\"><img src=\"https://colab.research.google.com/assets/colab-badge.svg\" alt=\"Open In Colab\"/></a>"
      ]
    },
    {
      "cell_type": "code",
      "source": [
        "# Googleドライブのマウント\n",
        "from google.colab import drive\n",
        "drive.mount('/content/drive')"
      ],
      "metadata": {
        "id": "6dsCCFrr8XuK"
      },
      "execution_count": null,
      "outputs": []
    },
    {
      "cell_type": "code",
      "source": [
        "%cd '/content/drive/MyDrive/Senior_Project'"
      ],
      "metadata": {
        "id": "EztHwK_u8d2C"
      },
      "execution_count": null,
      "outputs": []
    },
    {
      "cell_type": "code",
      "source": [
        "!pip install --upgrade google-api-python-client\n",
        "!pip install pytz"
      ],
      "metadata": {
        "id": "chpwPGDR9zou"
      },
      "execution_count": null,
      "outputs": []
    },
    {
      "cell_type": "code",
      "execution_count": null,
      "metadata": {
        "id": "Ha4Snk9J8JNw"
      },
      "outputs": [],
      "source": [
        "from apiclient.discovery import build\n",
        "from datetime import datetime, timedelta\n",
        "import pytz"
      ]
    },
    {
      "cell_type": "code",
      "source": [
        "# APIキーを設定\n",
        "api_key = \"\"\n",
        "\n",
        "# APIクライアントを構築\n",
        "youtube = build(\"youtube\", \"v3\", developerKey=api_key)\n",
        "\n",
        "# 日本時間の1時間前をISO 8601形式の文字列に変換\n",
        "one_hour_ago = (datetime.now(pytz.timezone(\"Asia/Tokyo\")) - timedelta(hours=1)).isoformat()\n"
      ],
      "metadata": {
        "id": "-hm-MtVj8nLn"
      },
      "execution_count": null,
      "outputs": []
    },
    {
      "cell_type": "code",
      "source": [
        "# 検索リクエストを実行\n",
        "search_response = youtube.search().list(\n",
        "    q=\"\",  # 検索クエリ（ここでは全ての動画を対象）\n",
        "    part=\"id\",  # 動画のIDを取得\n",
        "    type=\"video\",  # ビデオのみを対象\n",
        "    publishedAfter=one_hour_ago,  # 1時間前以降に公開された動画のみを対象\n",
        "    maxResults=50,  # 最大50件の結果を取得\n",
        "    regionCode=\"JP\",  # 日本で公開された動画のみを対象\n",
        ").execute()\n",
        "\n",
        "for item in search_response[\"items\"]:\n",
        "    video_id = item[\"id\"][\"videoId\"]\n",
        "\n",
        "    # 動画の詳細情報を取得\n",
        "    video_response = youtube.videos().list(\n",
        "        part=\"snippet,statistics\",  # 動画の基本情報と視聴回数を取得\n",
        "        id=video_id,  # 検索で取得した動画IDを指定\n",
        "    ).execute()\n",
        "\n",
        "    for video in video_response[\"items\"]:\n",
        "        # チャンネル名、動画のサムネイル、再生回数を表示\n",
        "        print(f\"Channel: {video['snippet']['channelTitle']}\")\n",
        "        print(f\"Thumbnail: {video['snippet']['thumbnails']['default']['url']}\")\n",
        "        print(f\"View count: {video['statistics']['viewCount']}\")"
      ],
      "metadata": {
        "id": "pX21MJIz8q4e"
      },
      "execution_count": null,
      "outputs": []
    },
    {
      "cell_type": "code",
      "source": [
        "import json\n",
        "import pandas as pd"
      ],
      "metadata": {
        "id": "l8G1uCtjAQyc"
      },
      "execution_count": null,
      "outputs": []
    },
    {
      "cell_type": "code",
      "source": [
        "# データを保存するリスト\n",
        "data = []\n",
        "\n",
        "# 動画ごとに必要な情報を取得\n",
        "for item in search_response[\"items\"]:\n",
        "    video_id = item[\"id\"][\"videoId\"]\n",
        "\n",
        "    # 動画の詳細情報を取得\n",
        "    video_response = youtube.videos().list(\n",
        "        part=\"snippet,statistics\",  # 動画の基本情報と視聴回数を取得\n",
        "        id=video_id,  # 検索で取得した動画IDを指定\n",
        "    ).execute()\n",
        "\n",
        "    for item in video_response[\"items\"]:\n",
        "        channel_title = item[\"snippet\"][\"channelTitle\"]  # チャンネル名\n",
        "        thumbnail_url = item[\"snippet\"][\"thumbnails\"][\"default\"][\"url\"]  # サムネイルURL\n",
        "        view_count = item[\"statistics\"][\"viewCount\"]  # 再生回数\n",
        "\n",
        "        # 取得した情報を辞書に格納\n",
        "        data.append({\n",
        "            \"channelTitle\": channel_title,\n",
        "            \"thumbnailUrl\": thumbnail_url,\n",
        "            \"viewCount\": view_count\n",
        "        })\n",
        "\n",
        "# JSON形式で保存\n",
        "with open('youtube_data.json', 'w') as json_file:\n",
        "    json.dump(data, json_file)\n",
        "\n",
        "# CSV形式で保存\n",
        "df = pd.DataFrame(data)\n",
        "df.to_csv('youtube_data.csv', index=False)"
      ],
      "metadata": {
        "id": "0USSmyntATwi"
      },
      "execution_count": null,
      "outputs": []
    },
    {
      "cell_type": "code",
      "source": [],
      "metadata": {
        "id": "JTSpa6RqAV14"
      },
      "execution_count": null,
      "outputs": []
    }
  ]
}