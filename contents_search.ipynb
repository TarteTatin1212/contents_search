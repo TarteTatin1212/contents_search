{
  "nbformat": 4,
  "nbformat_minor": 0,
  "metadata": {
    "colab": {
      "provenance": [],
      "authorship_tag": "ABX9TyPSvTTHEd3FcRvKlI2p/BJu",
      "include_colab_link": true
    },
    "kernelspec": {
      "name": "python3",
      "display_name": "Python 3"
    },
    "language_info": {
      "name": "python"
    }
  },
  "cells": [
    {
      "cell_type": "markdown",
      "metadata": {
        "id": "view-in-github",
        "colab_type": "text"
      },
      "source": [
        "<a href=\"https://colab.research.google.com/github/TarteTatin1212/contents_search/blob/main/contents_search.ipynb\" target=\"_parent\"><img src=\"https://colab.research.google.com/assets/colab-badge.svg\" alt=\"Open In Colab\"/></a>"
      ]
    },
    {
      "cell_type": "code",
      "source": [
        "\n",
        "# 必要なライブラリをインポート\n",
        "import langid\n",
        "import pandas as pd\n",
        "import json\n",
        "import pytz\n",
        "from datetime import datetime, timedelta\n",
        "from apiclient.discovery import build\n",
        "from google.colab import drive\n"
      ],
      "metadata": {
        "id": "6dsCCFrr8XuK"
      },
      "execution_count": null,
      "outputs": []
    },
    {
      "cell_type": "code",
      "source": [
        "# Googleドライブのマウント\n",
        "drive.mount('/content/drive')\n",
        "\n",
        "# ディレクトリの変更\n",
        "%cd '/content/drive/MyDrive/Horita_Semi'\n"
      ],
      "metadata": {
        "id": "EztHwK_u8d2C",
        "colab": {
          "base_uri": "https://localhost:8080/"
        },
        "outputId": "637dc6b6-6a2b-491e-e4c6-577990d0f12f"
      },
      "execution_count": null,
      "outputs": [
        {
          "output_type": "stream",
          "name": "stdout",
          "text": [
            "Drive already mounted at /content/drive; to attempt to forcibly remount, call drive.mount(\"/content/drive\", force_remount=True).\n",
            "/content/drive/MyDrive/Horita_Semi\n"
          ]
        }
      ]
    },
    {
      "cell_type": "code",
      "source": [
        "%ls"
      ],
      "metadata": {
        "colab": {
          "base_uri": "https://localhost:8080/"
        },
        "id": "4g-m0KDyupHr",
        "outputId": "d57c0fcf-5c46-4494-acce-3e28b16f630c"
      },
      "execution_count": null,
      "outputs": [
        {
          "output_type": "stream",
          "name": "stdout",
          "text": [
            "2023年6月1日課題点羅列.gdoc  youtube_data_japanese.csv\n",
            "api_key.txt                  youtube_data_japanese.json\n",
            "contents_search.ipynb        youtube_data_other.csv\n",
            "face_recognition.ipynb       youtube_data_other.json\n",
            "sample1.jpg                  無題の図形描画.gdraw\n",
            "test1.jpg                    \u001b[0m\u001b[01;34m論文\u001b[0m/\n",
            "test2.JPG                    \u001b[01;34m進捗報告\u001b[0m/\n",
            "Untitled0.ipynb\n"
          ]
        }
      ]
    },
    {
      "cell_type": "code",
      "source": [
        "# APIキーをテキストファイルから読み込む\n",
        "with open('api_key.txt', 'r') as file:\n",
        "    api_key = file.readline().strip()\n"
      ],
      "metadata": {
        "id": "chpwPGDR9zou"
      },
      "execution_count": null,
      "outputs": []
    },
    {
      "cell_type": "code",
      "execution_count": null,
      "metadata": {
        "id": "Ha4Snk9J8JNw",
        "colab": {
          "base_uri": "https://localhost:8080/",
          "height": 256
        },
        "outputId": "34804c45-e63a-4d7d-8f9e-9363e9716239"
      },
      "outputs": [
        {
          "output_type": "error",
          "ename": "TypeError",
          "evalue": "ignored",
          "traceback": [
            "\u001b[0;31m---------------------------------------------------------------------------\u001b[0m",
            "\u001b[0;31mTypeError\u001b[0m                                 Traceback (most recent call last)",
            "\u001b[0;32m<ipython-input-47-9581113b1856>\u001b[0m in \u001b[0;36m<cell line: 7>\u001b[0;34m()\u001b[0m\n\u001b[1;32m      5\u001b[0m \u001b[0mcurrent_time_japan\u001b[0m \u001b[0;34m=\u001b[0m \u001b[0mdatetime\u001b[0m\u001b[0;34m.\u001b[0m\u001b[0mnow\u001b[0m\u001b[0;34m(\u001b[0m\u001b[0mpytz\u001b[0m\u001b[0;34m.\u001b[0m\u001b[0mtimezone\u001b[0m\u001b[0;34m(\u001b[0m\u001b[0;34m\"Asia/Tokyo\"\u001b[0m\u001b[0;34m)\u001b[0m\u001b[0;34m)\u001b[0m\u001b[0;34m\u001b[0m\u001b[0;34m\u001b[0m\u001b[0m\n\u001b[1;32m      6\u001b[0m \u001b[0;34m\u001b[0m\u001b[0m\n\u001b[0;32m----> 7\u001b[0;31m \u001b[0;32mif\u001b[0m \u001b[0mcurrent_time_japan\u001b[0m\u001b[0;34m.\u001b[0m\u001b[0mtime\u001b[0m\u001b[0;34m(\u001b[0m\u001b[0;34m)\u001b[0m \u001b[0;34m<\u001b[0m \u001b[0mdatetime\u001b[0m\u001b[0;34m.\u001b[0m\u001b[0mtime\u001b[0m\u001b[0;34m(\u001b[0m\u001b[0;36m18\u001b[0m\u001b[0;34m,\u001b[0m \u001b[0;36m0\u001b[0m\u001b[0;34m)\u001b[0m\u001b[0;34m:\u001b[0m\u001b[0;34m\u001b[0m\u001b[0;34m\u001b[0m\u001b[0m\n\u001b[0m\u001b[1;32m      8\u001b[0m     \u001b[0;31m# 今日の日付から1日引いて、昨日の日付を取得\u001b[0m\u001b[0;34m\u001b[0m\u001b[0;34m\u001b[0m\u001b[0m\n\u001b[1;32m      9\u001b[0m     \u001b[0mtarget_date\u001b[0m \u001b[0;34m=\u001b[0m \u001b[0mcurrent_time_japan\u001b[0m \u001b[0;34m-\u001b[0m \u001b[0mtimedelta\u001b[0m\u001b[0;34m(\u001b[0m\u001b[0mdays\u001b[0m\u001b[0;34m=\u001b[0m\u001b[0;36m1\u001b[0m\u001b[0;34m)\u001b[0m\u001b[0;34m\u001b[0m\u001b[0;34m\u001b[0m\u001b[0m\n",
            "\u001b[0;31mTypeError\u001b[0m: descriptor 'time' for 'datetime.datetime' objects doesn't apply to a 'int' object"
          ]
        }
      ],
      "source": [
        "from datetime import datetime, timedelta\n",
        "import pytz\n",
        "\n",
        "# 日本時間での現在の日付を取得\n",
        "current_time_japan = datetime.now(pytz.timezone(\"Asia/Tokyo\"))\n",
        "\n",
        "if current_time_japan.time() < datetime.time(18, 0):\n",
        "    # 今日の日付から1日引いて、昨日の日付を取得\n",
        "    target_date = current_time_japan - timedelta(days=1)\n",
        "else:\n",
        "    target_date = current_time_japan\n",
        "\n",
        "# 18:00と21:00の日付オブジェクトを作成\n",
        "start_time = target_date.replace(hour=18, minute=0, second=0, microsecond=0)\n",
        "end_time = target_date.replace(hour=21, minute=0, second=0, microsecond=0)\n",
        "\n",
        "# 日付オブジェクトをISO 8601形式の文字列に変換\n",
        "start_time_iso = start_time.isoformat()\n",
        "end_time_iso = end_time.isoformat()\n"
      ]
    },
    {
      "cell_type": "code",
      "source": [
        "# 検索リクエストを実行\n",
        "search_response = youtube.search().list(\n",
        "    q=\"\",  # 検索クエリ（ここでは全ての動画を対象）\n",
        "    part=\"id\",  # 動画のIDを取得\n",
        "    type=\"video\",  # ビデオのみを対象\n",
        "    publishedAfter=start_time_iso,  # 18:00以降に公開された動画のみを対象\n",
        "    maxResults=30,  # 最大100件の結果を取得\n",
        "    regionCode=\"JP\",  # 日本で公開された動画のみを対象\n",
        ").execute()\n",
        "\n",
        "print(search_response)\n"
      ],
      "metadata": {
        "id": "-hm-MtVj8nLn",
        "colab": {
          "base_uri": "https://localhost:8080/"
        },
        "outputId": "b5fa77e5-f492-4728-d334-ef66782bfca8"
      },
      "execution_count": null,
      "outputs": [
        {
          "output_type": "stream",
          "name": "stdout",
          "text": [
            "{'kind': 'youtube#searchListResponse', 'etag': 'LgbNAyqK1NqajNz9V3coHms2150', 'regionCode': 'JP', 'pageInfo': {'totalResults': 1000000, 'resultsPerPage': 0}, 'items': []}\n"
          ]
        }
      ]
    },
    {
      "cell_type": "code",
      "source": [
        "# データを保存するリスト\n",
        "data_japanese = []\n",
        "data_other = []\n",
        "\n",
        "# 動画ごとに必要な情報を取得\n",
        "for item in search_response[\"items\"]:\n",
        "    video_id = item[\"id\"][\"videoId\"]\n",
        "\n",
        "    # 動画の詳細情報を取得\n",
        "    video_response = youtube.videos().list(\n",
        "        part=\"snippet,statistics\",  # 動画の基本情報と視聴回数を取得\n",
        "        id=video_id,  # 検索で取得した動画IDを指定\n",
        "    ).execute()\n",
        "    print(\"Title:\")\n",
        "\n",
        "    for item in video_response[\"items\"]:\n",
        "        title = item[\"snippet\"][\"title\"]  # 動画タイトル\n",
        "        lang, _ = langid.classify(title)\n",
        "        channel_title = item[\"snippet\"][\"channelTitle\"]  # チャンネル名\n",
        "        thumbnail_url = item[\"snippet\"][\"thumbnails\"][\"default\"][\"url\"]  # サムネイルURL\n",
        "        view_count = item[\"statistics\"][\"viewCount\"]  # 再生回数\n",
        "\n",
        "        # 取得した情報を辞書に格納\n",
        "        video_info = {\n",
        "        \"title\": title,\n",
        "        \"channelTitle\": channel_title,\n",
        "        \"thumbnailUrl\": thumbnail_url,\n",
        "        \"viewCount\": view_count\n",
        "        }\n",
        "\n",
        "        # データの出力\n",
        "        print(\"Title:\")\n",
        "        print(\"Title:\", video_info[\"title\"])\n",
        "        print(\"Channel Title:\", video_info[\"channelTitle\"])\n",
        "        print(\"Thumbnail URL:\", video_info[\"thumbnailUrl\"])\n",
        "        print(\"View Count:\", video_info[\"viewCount\"])\n",
        "\n",
        "\n",
        "        # タイトルが日本語なら data_japanese に、それ以外なら data_other に追加\n",
        "        if lang == 'ja':\n",
        "            data_japanese.append(video_info)\n",
        "        else:\n",
        "            data_other.append(video_info)\n"
      ],
      "metadata": {
        "id": "pX21MJIz8q4e"
      },
      "execution_count": null,
      "outputs": []
    },
    {
      "cell_type": "code",
      "source": [
        " print(\"Title:\", video_info[\"title\"])# JSON形式で保存\n",
        "with open('youtube_data_japanese.json', 'w') as json_file:\n",
        "    json.dump(data_japanese, json_file)\n",
        "with open('youtube_data_other.json', 'w') as json_file:\n",
        "    json.dump(data_other, json_file)\n"
      ],
      "metadata": {
        "id": "JTSpa6RqAV14"
      },
      "execution_count": null,
      "outputs": []
    },
    {
      "cell_type": "code",
      "source": [
        "# CSV形式で保存\n",
        "df_japanese = pd.DataFrame(data_japanese)\n",
        "df_japanese.to_csv('youtube_data_japanese.csv', index=False)\n",
        "df_other = pd.DataFrame(data_other)\n",
        "df_other.to_csv('youtube_data_other.csv', index=False)\n"
      ],
      "metadata": {
        "id": "QSqiETPZtoGJ"
      },
      "execution_count": null,
      "outputs": []
    }
  ]
}