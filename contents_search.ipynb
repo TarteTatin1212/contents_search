{
  "nbformat": 4,
  "nbformat_minor": 0,
  "metadata": {
    "colab": {
      "provenance": [],
      "authorship_tag": "ABX9TyMJUhlA9lQoZMsXebSzpGgu",
      "include_colab_link": true
    },
    "kernelspec": {
      "name": "python3",
      "display_name": "Python 3"
    },
    "language_info": {
      "name": "python"
    }
  },
  "cells": [
    {
      "cell_type": "markdown",
      "metadata": {
        "id": "view-in-github",
        "colab_type": "text"
      },
      "source": [
        "<a href=\"https://colab.research.google.com/github/TarteTatin1212/contents_search/blob/main/contents_search.ipynb\" target=\"_parent\"><img src=\"https://colab.research.google.com/assets/colab-badge.svg\" alt=\"Open In Colab\"/></a>"
      ]
    },
    {
      "cell_type": "markdown",
      "source": [
        "https://chat.openai.com/c/72549bc6-2164-44a1-9da1-8fff0c3cfb9f\n"
      ],
      "metadata": {
        "id": "z8WHU4DBMTB-"
      }
    },
    {
      "cell_type": "code",
      "source": [
        "# Googleドライブのマウント\n",
        "from google.colab import drive\n",
        "drive.mount('/content/drive')"
      ],
      "metadata": {
        "id": "6dsCCFrr8XuK",
        "colab": {
          "base_uri": "https://localhost:8080/"
        },
        "outputId": "82f9e646-031b-411e-c021-38f2054e0ce9"
      },
      "execution_count": 1,
      "outputs": [
        {
          "output_type": "stream",
          "name": "stdout",
          "text": [
            "Mounted at /content/drive\n"
          ]
        }
      ]
    },
    {
      "cell_type": "code",
      "source": [
        "%cd '/content/drive/MyDrive/Senior_Project'"
      ],
      "metadata": {
        "id": "EztHwK_u8d2C",
        "colab": {
          "base_uri": "https://localhost:8080/"
        },
        "outputId": "b15ee45f-3ebe-4790-e281-a22341c7229b"
      },
      "execution_count": 2,
      "outputs": [
        {
          "output_type": "stream",
          "name": "stdout",
          "text": [
            "/content/drive/MyDrive/Senior_Project\n"
          ]
        }
      ]
    },
    {
      "cell_type": "code",
      "source": [
        "!pip install --upgrade google-api-python-client\n",
        "!pip install pytz\n",
        "!pip install langid"
      ],
      "metadata": {
        "id": "chpwPGDR9zou",
        "colab": {
          "base_uri": "https://localhost:8080/"
        },
        "outputId": "d71e45ce-42cd-4c6b-c3c3-3e204327d1b4"
      },
      "execution_count": 3,
      "outputs": [
        {
          "output_type": "stream",
          "name": "stdout",
          "text": [
            "Looking in indexes: https://pypi.org/simple, https://us-python.pkg.dev/colab-wheels/public/simple/\n",
            "Requirement already satisfied: google-api-python-client in /usr/local/lib/python3.10/dist-packages (2.84.0)\n",
            "Collecting google-api-python-client\n",
            "  Downloading google_api_python_client-2.88.0-py2.py3-none-any.whl (11.4 MB)\n",
            "\u001b[2K     \u001b[90m━━━━━━━━━━━━━━━━━━━━━━━━━━━━━━━━━━━━━━━━\u001b[0m \u001b[32m11.4/11.4 MB\u001b[0m \u001b[31m67.3 MB/s\u001b[0m eta \u001b[36m0:00:00\u001b[0m\n",
            "\u001b[?25hRequirement already satisfied: httplib2<1dev,>=0.15.0 in /usr/local/lib/python3.10/dist-packages (from google-api-python-client) (0.21.0)\n",
            "Requirement already satisfied: google-auth<3.0.0dev,>=1.19.0 in /usr/local/lib/python3.10/dist-packages (from google-api-python-client) (2.17.3)\n",
            "Requirement already satisfied: google-auth-httplib2>=0.1.0 in /usr/local/lib/python3.10/dist-packages (from google-api-python-client) (0.1.0)\n",
            "Requirement already satisfied: google-api-core!=2.0.*,!=2.1.*,!=2.2.*,!=2.3.0,<3.0.0dev,>=1.31.5 in /usr/local/lib/python3.10/dist-packages (from google-api-python-client) (2.11.0)\n",
            "Requirement already satisfied: uritemplate<5,>=3.0.1 in /usr/local/lib/python3.10/dist-packages (from google-api-python-client) (4.1.1)\n",
            "Requirement already satisfied: googleapis-common-protos<2.0dev,>=1.56.2 in /usr/local/lib/python3.10/dist-packages (from google-api-core!=2.0.*,!=2.1.*,!=2.2.*,!=2.3.0,<3.0.0dev,>=1.31.5->google-api-python-client) (1.59.0)\n",
            "Requirement already satisfied: protobuf!=3.20.0,!=3.20.1,!=4.21.0,!=4.21.1,!=4.21.2,!=4.21.3,!=4.21.4,!=4.21.5,<5.0.0dev,>=3.19.5 in /usr/local/lib/python3.10/dist-packages (from google-api-core!=2.0.*,!=2.1.*,!=2.2.*,!=2.3.0,<3.0.0dev,>=1.31.5->google-api-python-client) (3.20.3)\n",
            "Requirement already satisfied: requests<3.0.0dev,>=2.18.0 in /usr/local/lib/python3.10/dist-packages (from google-api-core!=2.0.*,!=2.1.*,!=2.2.*,!=2.3.0,<3.0.0dev,>=1.31.5->google-api-python-client) (2.27.1)\n",
            "Requirement already satisfied: cachetools<6.0,>=2.0.0 in /usr/local/lib/python3.10/dist-packages (from google-auth<3.0.0dev,>=1.19.0->google-api-python-client) (5.3.0)\n",
            "Requirement already satisfied: pyasn1-modules>=0.2.1 in /usr/local/lib/python3.10/dist-packages (from google-auth<3.0.0dev,>=1.19.0->google-api-python-client) (0.3.0)\n",
            "Requirement already satisfied: six>=1.9.0 in /usr/local/lib/python3.10/dist-packages (from google-auth<3.0.0dev,>=1.19.0->google-api-python-client) (1.16.0)\n",
            "Requirement already satisfied: rsa<5,>=3.1.4 in /usr/local/lib/python3.10/dist-packages (from google-auth<3.0.0dev,>=1.19.0->google-api-python-client) (4.9)\n",
            "Requirement already satisfied: pyparsing!=3.0.0,!=3.0.1,!=3.0.2,!=3.0.3,<4,>=2.4.2 in /usr/local/lib/python3.10/dist-packages (from httplib2<1dev,>=0.15.0->google-api-python-client) (3.0.9)\n",
            "Requirement already satisfied: pyasn1<0.6.0,>=0.4.6 in /usr/local/lib/python3.10/dist-packages (from pyasn1-modules>=0.2.1->google-auth<3.0.0dev,>=1.19.0->google-api-python-client) (0.5.0)\n",
            "Requirement already satisfied: urllib3<1.27,>=1.21.1 in /usr/local/lib/python3.10/dist-packages (from requests<3.0.0dev,>=2.18.0->google-api-core!=2.0.*,!=2.1.*,!=2.2.*,!=2.3.0,<3.0.0dev,>=1.31.5->google-api-python-client) (1.26.15)\n",
            "Requirement already satisfied: certifi>=2017.4.17 in /usr/local/lib/python3.10/dist-packages (from requests<3.0.0dev,>=2.18.0->google-api-core!=2.0.*,!=2.1.*,!=2.2.*,!=2.3.0,<3.0.0dev,>=1.31.5->google-api-python-client) (2022.12.7)\n",
            "Requirement already satisfied: charset-normalizer~=2.0.0 in /usr/local/lib/python3.10/dist-packages (from requests<3.0.0dev,>=2.18.0->google-api-core!=2.0.*,!=2.1.*,!=2.2.*,!=2.3.0,<3.0.0dev,>=1.31.5->google-api-python-client) (2.0.12)\n",
            "Requirement already satisfied: idna<4,>=2.5 in /usr/local/lib/python3.10/dist-packages (from requests<3.0.0dev,>=2.18.0->google-api-core!=2.0.*,!=2.1.*,!=2.2.*,!=2.3.0,<3.0.0dev,>=1.31.5->google-api-python-client) (3.4)\n",
            "Installing collected packages: google-api-python-client\n",
            "  Attempting uninstall: google-api-python-client\n",
            "    Found existing installation: google-api-python-client 2.84.0\n",
            "    Uninstalling google-api-python-client-2.84.0:\n",
            "      Successfully uninstalled google-api-python-client-2.84.0\n",
            "Successfully installed google-api-python-client-2.88.0\n",
            "Looking in indexes: https://pypi.org/simple, https://us-python.pkg.dev/colab-wheels/public/simple/\n",
            "Requirement already satisfied: pytz in /usr/local/lib/python3.10/dist-packages (2022.7.1)\n",
            "Looking in indexes: https://pypi.org/simple, https://us-python.pkg.dev/colab-wheels/public/simple/\n",
            "Collecting langid\n",
            "  Downloading langid-1.1.6.tar.gz (1.9 MB)\n",
            "\u001b[2K     \u001b[90m━━━━━━━━━━━━━━━━━━━━━━━━━━━━━━━━━━━━━━━━\u001b[0m \u001b[32m1.9/1.9 MB\u001b[0m \u001b[31m33.0 MB/s\u001b[0m eta \u001b[36m0:00:00\u001b[0m\n",
            "\u001b[?25h  Preparing metadata (setup.py) ... \u001b[?25l\u001b[?25hdone\n",
            "Requirement already satisfied: numpy in /usr/local/lib/python3.10/dist-packages (from langid) (1.22.4)\n",
            "Building wheels for collected packages: langid\n",
            "  Building wheel for langid (setup.py) ... \u001b[?25l\u001b[?25hdone\n",
            "  Created wheel for langid: filename=langid-1.1.6-py3-none-any.whl size=1941171 sha256=abac7525861b43c6300e1b0a25b18d57f09cba53261c30feb8f20b1e887425d4\n",
            "  Stored in directory: /root/.cache/pip/wheels/23/c8/c6/eed80894918490a175677414d40bd7c851413bbe03d4856c3c\n",
            "Successfully built langid\n",
            "Installing collected packages: langid\n",
            "Successfully installed langid-1.1.6\n"
          ]
        }
      ]
    },
    {
      "cell_type": "code",
      "execution_count": 4,
      "metadata": {
        "id": "Ha4Snk9J8JNw"
      },
      "outputs": [],
      "source": [
        "from apiclient.discovery import build\n",
        "from datetime import datetime, timedelta\n",
        "import pytz\n",
        "import json\n",
        "import pandas as pd\n",
        "import langid"
      ]
    },
    {
      "cell_type": "code",
      "source": [
        "# APIキーを設定\n",
        "api_key = \"\"\n",
        "\n",
        "# APIクライアントを構築\n",
        "youtube = build(\"youtube\", \"v3\", developerKey=api_key)\n",
        "\n",
        "# 日本時間の1時間前をISO 8601形式の文字列に変換\n",
        "one_hour_ago = (datetime.now(pytz.timezone(\"Asia/Tokyo\")) - timedelta(hours=1)).isoformat()\n"
      ],
      "metadata": {
        "id": "-hm-MtVj8nLn"
      },
      "execution_count": 5,
      "outputs": []
    },
    {
      "cell_type": "code",
      "source": [
        "# 検索リクエストを実行\n",
        "search_response = youtube.search().list(\n",
        "    q=\"\",  # 検索クエリ（ここでは全ての動画を対象）\n",
        "    part=\"id\",  # 動画のIDを取得\n",
        "    type=\"video\",  # ビデオのみを対象\n",
        "    publishedAfter=one_hour_ago,  # 1時間前以降に公開された動画のみを対象\n",
        "    maxResults=100,  # 最大50件の結果を取得\n",
        "    regionCode=\"JP\",  # 日本で公開された動画のみを対象\n",
        ").execute()\n",
        "\n",
        "# データを保存するリスト\n",
        "data_japanese = []\n",
        "data_other = []\n",
        "\n",
        "# 動画ごとに必要な情報を取得\n",
        "for item in search_response[\"items\"]:\n",
        "    video_id = item[\"id\"][\"videoId\"]\n",
        "\n",
        "    # 動画の詳細情報を取得\n",
        "    video_response = youtube.videos().list(\n",
        "        part=\"snippet,statistics\",  # 動画の基本情報と視聴回数を取得\n",
        "        id=video_id,  # 検索で取得した動画IDを指定\n",
        "    ).execute()\n",
        "\n",
        "    for item in video_response[\"items\"]:\n",
        "        title = item[\"snippet\"][\"title\"]  # 動画タイトル\n",
        "        lang, _ = langid.classify(title)\n",
        "        channel_title = item[\"snippet\"][\"channelTitle\"]  # チャンネル名\n",
        "        thumbnail_url = item[\"snippet\"][\"thumbnails\"][\"default\"][\"url\"]  # サムネイルURL\n",
        "        view_count = item[\"statistics\"][\"viewCount\"]  # 再生回数\n",
        "\n",
        "        # 取得した情報を辞書に格納\n",
        "        video_info = {\n",
        "            \"title\": title,\n",
        "            \"channelTitle\": channel_title,\n",
        "            \"thumbnailUrl\": thumbnail_url,\n",
        "            \"viewCount\": view_count\n",
        "        }\n",
        "\n",
        "        # タイトルが日本語なら data_japanese に、それ以外なら data_other に追加\n",
        "        if lang == 'ja':\n",
        "            data_japanese.append(video_info)\n",
        "        else:\n",
        "            data_other.append(video_info)\n"
      ],
      "metadata": {
        "id": "pX21MJIz8q4e"
      },
      "execution_count": 12,
      "outputs": []
    },
    {
      "cell_type": "code",
      "source": [
        "# JSON形式で保存\n",
        "with open('youtube_data_japanese.json', 'w') as json_file:\n",
        "    json.dump(data_japanese, json_file)\n",
        "with open('youtube_data_other.json', 'w') as json_file:\n",
        "    json.dump(data_other, json_file)\n",
        "\n",
        "# CSV形式で保存\n",
        "df_japanese = pd.DataFrame(data_japanese)\n",
        "df_japanese.to_csv('youtube_data_japanese.csv', index=False)\n",
        "df_other = pd.DataFrame(data_other)\n",
        "df_other.to_csv('youtube_data_other.csv', index=False)"
      ],
      "metadata": {
        "id": "JTSpa6RqAV14"
      },
      "execution_count": 13,
      "outputs": []
    }
  ]
}