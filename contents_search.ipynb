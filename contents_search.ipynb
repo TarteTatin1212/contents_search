{
  "nbformat": 4,
  "nbformat_minor": 0,
  "metadata": {
    "colab": {
      "provenance": [],
      "authorship_tag": "ABX9TyP2m6NQ9TGegTIFM44uFd/G",
      "include_colab_link": true
    },
    "kernelspec": {
      "name": "python3",
      "display_name": "Python 3"
    },
    "language_info": {
      "name": "python"
    }
  },
  "cells": [
    {
      "cell_type": "markdown",
      "metadata": {
        "id": "view-in-github",
        "colab_type": "text"
      },
      "source": [
        "<a href=\"https://colab.research.google.com/github/TarteTatin1212/contents_search/blob/main/contents_search.ipynb\" target=\"_parent\"><img src=\"https://colab.research.google.com/assets/colab-badge.svg\" alt=\"Open In Colab\"/></a>"
      ]
    },
    {
      "cell_type": "code",
      "source": [
        "# Googleドライブのマウント\n",
        "from google.colab import drive\n",
        "drive.mount('/content/drive')"
      ],
      "metadata": {
        "id": "6dsCCFrr8XuK",
        "colab": {
          "base_uri": "https://localhost:8080/"
        },
        "outputId": "694f47d7-e3ac-4982-dd08-5108e0302a82"
      },
      "execution_count": null,
      "outputs": [
        {
          "output_type": "stream",
          "name": "stdout",
          "text": [
            "Mounted at /content/drive\n"
          ]
        }
      ]
    },
    {
      "cell_type": "code",
      "source": [
        "%cd '/content/drive/MyDrive/Senior_Project'"
      ],
      "metadata": {
        "id": "EztHwK_u8d2C",
        "colab": {
          "base_uri": "https://localhost:8080/"
        },
        "outputId": "ddced850-e9c8-4fdb-ad85-206e2ed320e4"
      },
      "execution_count": null,
      "outputs": [
        {
          "output_type": "stream",
          "name": "stdout",
          "text": [
            "/content/drive/MyDrive/Senior_Project\n"
          ]
        }
      ]
    },
    {
      "cell_type": "code",
      "source": [
        "!pip install --upgrade google-api-python-client\n",
        "!pip install pytz\n",
        "!pip install langid"
      ],
      "metadata": {
        "id": "chpwPGDR9zou",
        "colab": {
          "base_uri": "https://localhost:8080/"
        },
        "outputId": "84afb064-1549-4e37-c29e-8e442e417db6"
      },
      "execution_count": null,
      "outputs": [
        {
          "output_type": "stream",
          "name": "stdout",
          "text": [
            "Looking in indexes: https://pypi.org/simple, https://us-python.pkg.dev/colab-wheels/public/simple/\n",
            "Requirement already satisfied: google-api-python-client in /usr/local/lib/python3.10/dist-packages (2.84.0)\n",
            "Collecting google-api-python-client\n",
            "  Downloading google_api_python_client-2.89.0-py2.py3-none-any.whl (11.5 MB)\n",
            "\u001b[2K     \u001b[90m━━━━━━━━━━━━━━━━━━━━━━━━━━━━━━━━━━━━━━━━\u001b[0m \u001b[32m11.5/11.5 MB\u001b[0m \u001b[31m87.8 MB/s\u001b[0m eta \u001b[36m0:00:00\u001b[0m\n",
            "\u001b[?25hRequirement already satisfied: httplib2<1.dev0,>=0.15.0 in /usr/local/lib/python3.10/dist-packages (from google-api-python-client) (0.21.0)\n",
            "Requirement already satisfied: google-auth<3.0.0.dev0,>=1.19.0 in /usr/local/lib/python3.10/dist-packages (from google-api-python-client) (2.17.3)\n",
            "Requirement already satisfied: google-auth-httplib2>=0.1.0 in /usr/local/lib/python3.10/dist-packages (from google-api-python-client) (0.1.0)\n",
            "Requirement already satisfied: google-api-core!=2.0.*,!=2.1.*,!=2.2.*,!=2.3.0,<3.0.0.dev0,>=1.31.5 in /usr/local/lib/python3.10/dist-packages (from google-api-python-client) (2.11.0)\n",
            "Requirement already satisfied: uritemplate<5,>=3.0.1 in /usr/local/lib/python3.10/dist-packages (from google-api-python-client) (4.1.1)\n",
            "Requirement already satisfied: googleapis-common-protos<2.0dev,>=1.56.2 in /usr/local/lib/python3.10/dist-packages (from google-api-core!=2.0.*,!=2.1.*,!=2.2.*,!=2.3.0,<3.0.0.dev0,>=1.31.5->google-api-python-client) (1.59.0)\n",
            "Requirement already satisfied: protobuf!=3.20.0,!=3.20.1,!=4.21.0,!=4.21.1,!=4.21.2,!=4.21.3,!=4.21.4,!=4.21.5,<5.0.0dev,>=3.19.5 in /usr/local/lib/python3.10/dist-packages (from google-api-core!=2.0.*,!=2.1.*,!=2.2.*,!=2.3.0,<3.0.0.dev0,>=1.31.5->google-api-python-client) (3.20.3)\n",
            "Requirement already satisfied: requests<3.0.0dev,>=2.18.0 in /usr/local/lib/python3.10/dist-packages (from google-api-core!=2.0.*,!=2.1.*,!=2.2.*,!=2.3.0,<3.0.0.dev0,>=1.31.5->google-api-python-client) (2.27.1)\n",
            "Requirement already satisfied: cachetools<6.0,>=2.0.0 in /usr/local/lib/python3.10/dist-packages (from google-auth<3.0.0.dev0,>=1.19.0->google-api-python-client) (5.3.0)\n",
            "Requirement already satisfied: pyasn1-modules>=0.2.1 in /usr/local/lib/python3.10/dist-packages (from google-auth<3.0.0.dev0,>=1.19.0->google-api-python-client) (0.3.0)\n",
            "Requirement already satisfied: six>=1.9.0 in /usr/local/lib/python3.10/dist-packages (from google-auth<3.0.0.dev0,>=1.19.0->google-api-python-client) (1.16.0)\n",
            "Requirement already satisfied: rsa<5,>=3.1.4 in /usr/local/lib/python3.10/dist-packages (from google-auth<3.0.0.dev0,>=1.19.0->google-api-python-client) (4.9)\n",
            "Requirement already satisfied: pyparsing!=3.0.0,!=3.0.1,!=3.0.2,!=3.0.3,<4,>=2.4.2 in /usr/local/lib/python3.10/dist-packages (from httplib2<1.dev0,>=0.15.0->google-api-python-client) (3.0.9)\n",
            "Requirement already satisfied: pyasn1<0.6.0,>=0.4.6 in /usr/local/lib/python3.10/dist-packages (from pyasn1-modules>=0.2.1->google-auth<3.0.0.dev0,>=1.19.0->google-api-python-client) (0.5.0)\n",
            "Requirement already satisfied: urllib3<1.27,>=1.21.1 in /usr/local/lib/python3.10/dist-packages (from requests<3.0.0dev,>=2.18.0->google-api-core!=2.0.*,!=2.1.*,!=2.2.*,!=2.3.0,<3.0.0.dev0,>=1.31.5->google-api-python-client) (1.26.15)\n",
            "Requirement already satisfied: certifi>=2017.4.17 in /usr/local/lib/python3.10/dist-packages (from requests<3.0.0dev,>=2.18.0->google-api-core!=2.0.*,!=2.1.*,!=2.2.*,!=2.3.0,<3.0.0.dev0,>=1.31.5->google-api-python-client) (2022.12.7)\n",
            "Requirement already satisfied: charset-normalizer~=2.0.0 in /usr/local/lib/python3.10/dist-packages (from requests<3.0.0dev,>=2.18.0->google-api-core!=2.0.*,!=2.1.*,!=2.2.*,!=2.3.0,<3.0.0.dev0,>=1.31.5->google-api-python-client) (2.0.12)\n",
            "Requirement already satisfied: idna<4,>=2.5 in /usr/local/lib/python3.10/dist-packages (from requests<3.0.0dev,>=2.18.0->google-api-core!=2.0.*,!=2.1.*,!=2.2.*,!=2.3.0,<3.0.0.dev0,>=1.31.5->google-api-python-client) (3.4)\n",
            "Installing collected packages: google-api-python-client\n",
            "  Attempting uninstall: google-api-python-client\n",
            "    Found existing installation: google-api-python-client 2.84.0\n",
            "    Uninstalling google-api-python-client-2.84.0:\n",
            "      Successfully uninstalled google-api-python-client-2.84.0\n",
            "Successfully installed google-api-python-client-2.89.0\n",
            "Looking in indexes: https://pypi.org/simple, https://us-python.pkg.dev/colab-wheels/public/simple/\n",
            "Requirement already satisfied: pytz in /usr/local/lib/python3.10/dist-packages (2022.7.1)\n",
            "Looking in indexes: https://pypi.org/simple, https://us-python.pkg.dev/colab-wheels/public/simple/\n",
            "Collecting langid\n",
            "  Downloading langid-1.1.6.tar.gz (1.9 MB)\n",
            "\u001b[2K     \u001b[90m━━━━━━━━━━━━━━━━━━━━━━━━━━━━━━━━━━━━━━━━\u001b[0m \u001b[32m1.9/1.9 MB\u001b[0m \u001b[31m32.7 MB/s\u001b[0m eta \u001b[36m0:00:00\u001b[0m\n",
            "\u001b[?25h  Preparing metadata (setup.py) ... \u001b[?25l\u001b[?25hdone\n",
            "Requirement already satisfied: numpy in /usr/local/lib/python3.10/dist-packages (from langid) (1.22.4)\n",
            "Building wheels for collected packages: langid\n",
            "  Building wheel for langid (setup.py) ... \u001b[?25l\u001b[?25hdone\n",
            "  Created wheel for langid: filename=langid-1.1.6-py3-none-any.whl size=1941171 sha256=d22c288ea218275bad34fe5ba11250edd0765c28c1dccfbea676d319c91c0cdd\n",
            "  Stored in directory: /root/.cache/pip/wheels/23/c8/c6/eed80894918490a175677414d40bd7c851413bbe03d4856c3c\n",
            "Successfully built langid\n",
            "Installing collected packages: langid\n",
            "Successfully installed langid-1.1.6\n"
          ]
        }
      ]
    },
    {
      "cell_type": "code",
      "execution_count": null,
      "metadata": {
        "id": "Ha4Snk9J8JNw"
      },
      "outputs": [],
      "source": [
        "from apiclient.discovery import build\n",
        "from datetime import datetime, timedelta\n",
        "import pytz\n",
        "import json\n",
        "import pandas as pd\n",
        "import langid"
      ]
    },
    {
      "cell_type": "code",
      "source": [
        "# APIキーをテキストファイルから読み込む\n",
        "with open('/content/drive/MyDrive/Senior_Project/api_key.txt', 'r') as file:\n",
        "    api_key = file.readline().strip()\n",
        "\n",
        "# APIクライアントを構築\n",
        "youtube = build(\"youtube\", \"v3\", developerKey=api_key)\n",
        "\n",
        "# 日本時間での現在の日付を取得\n",
        "current_time_japan = datetime.now(pytz.timezone(\"Asia/Tokyo\"))\n",
        "\n",
        "# 18:00と21:00の日付オブジェクトを作成\n",
        "start_time = current_time_japan.replace(hour=18, minute=0, second=0, microsecond=0)\n",
        "end_time = current_time_japan.replace(hour=21, minute=0, second=0, microsecond=0)\n",
        "\n",
        "# 日付オブジェクトをISO 8601形式の文字列に変換\n",
        "start_time_iso = start_time.isoformat()\n",
        "end_time_iso = end_time.isoformat()\n",
        "\n"
      ],
      "metadata": {
        "id": "-hm-MtVj8nLn"
      },
      "execution_count": null,
      "outputs": []
    },
    {
      "cell_type": "code",
      "source": [
        "# 検索リクエストを実行\n",
        "search_response = youtube.search().list(\n",
        "    q=\"\",  # 検索クエリ（ここでは全ての動画を対象）\n",
        "    part=\"id\",  # 動画のIDのみを取得\n",
        "    type=\"video\",  # 動画のみを検索対象とする\n",
        "    publishedAfter=start_time_iso,  # 18:00以降に公開された動画を対象とする\n",
        "    publishedBefore=end_time_iso,   # 21:00以前に公開された動画を対象とする\n",
        "    maxResults=100,  # 最大100件の結果を取得\n",
        "    regionCode=\"JP\",  # 日本で公開された動画を対象とする\n",
        ").execute()\n",
        "\n",
        "\n",
        "# データを保存するリスト\n",
        "data_japanese = []\n",
        "data_other = []\n",
        "\n",
        "# 動画ごとに必要な情報を取得\n",
        "for item in search_response[\"items\"]:\n",
        "    video_id = item[\"id\"][\"videoId\"]\n",
        "\n",
        "    # 動画の詳細情報を取得\n",
        "    video_response = youtube.videos().list(\n",
        "        part=\"snippet,statistics\",  # 動画の基本情報と視聴回数を取得\n",
        "        id=video_id,  # 検索で取得した動画IDを指定\n",
        "    ).execute()\n",
        "\n",
        "    for item in video_response[\"items\"]:\n",
        "        title = item[\"snippet\"][\"title\"]  # 動画タイトル\n",
        "        lang, _ = langid.classify(title)\n",
        "        channel_title = item[\"snippet\"][\"channelTitle\"]  # チャンネル名\n",
        "        thumbnail_url = item[\"snippet\"][\"thumbnails\"][\"default\"][\"url\"]  # サムネイルURL\n",
        "        view_count = item[\"statistics\"][\"viewCount\"]  # 再生回数\n",
        "\n",
        "        # 取得した情報を辞書に格納\n",
        "        video_info = {\n",
        "            \"title\": title,\n",
        "            \"channelTitle\": channel_title,\n",
        "            \"thumbnailUrl\": thumbnail_url,\n",
        "            \"viewCount\": view_count\n",
        "        }\n",
        "\n",
        "        # タイトルが日本語なら data_japanese に、それ以外なら data_other に追加\n",
        "        if lang == 'ja':\n",
        "            data_japanese.append(video_info)\n",
        "        else:\n",
        "            data_other.append(video_info)\n"
      ],
      "metadata": {
        "id": "pX21MJIz8q4e"
      },
      "execution_count": null,
      "outputs": []
    },
    {
      "cell_type": "code",
      "source": [
        "# JSON形式で保存\n",
        "with open('youtube_data_japanese.json', 'w') as json_file:\n",
        "    json.dump(data_japanese, json_file)\n",
        "with open('youtube_data_other.json', 'w') as json_file:\n",
        "    json.dump(data_other, json_file)\n",
        "\n",
        "# CSV形式で保存\n",
        "df_japanese = pd.DataFrame(data_japanese)\n",
        "df_japanese.to_csv('youtube_data_japanese.csv', index=False)\n",
        "df_other = pd.DataFrame(data_other)\n",
        "df_other.to_csv('youtube_data_other.csv', index=False)"
      ],
      "metadata": {
        "id": "JTSpa6RqAV14"
      },
      "execution_count": null,
      "outputs": []
    }
  ]
}